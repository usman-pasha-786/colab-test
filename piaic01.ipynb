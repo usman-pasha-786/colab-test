{
  "nbformat": 4,
  "nbformat_minor": 0,
  "metadata": {
    "colab": {
      "provenance": [],
      "toc_visible": true,
      "authorship_tag": "ABX9TyOIegG7dIX1p5fmiRzTlrOK",
      "include_colab_link": true
    },
    "kernelspec": {
      "name": "python3",
      "display_name": "Python 3"
    },
    "language_info": {
      "name": "python"
    }
  },
  "cells": [
    {
      "cell_type": "markdown",
      "metadata": {
        "id": "view-in-github",
        "colab_type": "text"
      },
      "source": [
        "<a href=\"https://colab.research.google.com/github/usman-pasha-786/colab-test/blob/main/piaic01.ipynb\" target=\"_parent\"><img src=\"https://colab.research.google.com/assets/colab-badge.svg\" alt=\"Open In Colab\"/></a>"
      ]
    },
    {
      "cell_type": "markdown",
      "source": [
        "# Start introduction\n"
      ],
      "metadata": {
        "id": "oSxM49xhUSbc"
      }
    },
    {
      "cell_type": "code",
      "source": [
        "# prompt: write a hello world program\n",
        "\n",
        "print(\"Hello World!\")\n"
      ],
      "metadata": {
        "id": "6CgfnS7rUp5u"
      },
      "execution_count": null,
      "outputs": []
    },
    {
      "cell_type": "code",
      "source": [
        "# prompt: write my name is usman\n",
        "\n",
        "print(\"My name is Usman\")\n"
      ],
      "metadata": {
        "id": "BMqrUfTdOlwq"
      },
      "execution_count": null,
      "outputs": []
    },
    {
      "cell_type": "code",
      "source": [
        "# prompt: say hello to my mother\n",
        "\n",
        "print(\"Hello Mother!\")\n"
      ],
      "metadata": {
        "colab": {
          "base_uri": "https://localhost:8080/"
        },
        "id": "-sA9-UxsY90a",
        "outputId": "219a2fbb-c789-4882-b616-25b14b7ea558"
      },
      "execution_count": null,
      "outputs": [
        {
          "output_type": "stream",
          "name": "stdout",
          "text": [
            "Hello Mother!\n"
          ]
        }
      ]
    },
    {
      "cell_type": "code",
      "source": [
        "# prompt: write a hello world program and commit this code\n",
        "\n",
        "print(\"Hello World!\")\n"
      ],
      "metadata": {
        "colab": {
          "base_uri": "https://localhost:8080/"
        },
        "id": "3Ivmp_JqZiFc",
        "outputId": "318f5e65-e890-4271-dde2-319d3cba2727"
      },
      "execution_count": null,
      "outputs": [
        {
          "output_type": "stream",
          "name": "stdout",
          "text": [
            "Hello World!\n"
          ]
        }
      ]
    },
    {
      "cell_type": "code",
      "source": [
        "# prompt: write a code that display my favorite color\n",
        "\n",
        "print(\"My favorite color is blue!\")\n"
      ],
      "metadata": {
        "colab": {
          "base_uri": "https://localhost:8080/"
        },
        "id": "J8kGG2GKdNIg",
        "outputId": "add20b5e-bb4e-43e9-9613-24c451e96b1c"
      },
      "execution_count": null,
      "outputs": [
        {
          "output_type": "stream",
          "name": "stdout",
          "text": [
            "My favorite color is blue!\n"
          ]
        }
      ]
    },
    {
      "cell_type": "code",
      "source": [
        "# prompt: write a code that answer the question. \"how are you feeling today\"\n",
        "\n",
        "print(\"I'm feeling good, thanks for asking!\")\n"
      ],
      "metadata": {
        "colab": {
          "base_uri": "https://localhost:8080/"
        },
        "id": "Ad5MhOmSd0JN",
        "outputId": "106b0582-03e8-43f7-b8cb-2ca00dc37121"
      },
      "execution_count": null,
      "outputs": [
        {
          "output_type": "stream",
          "name": "stdout",
          "text": [
            "I'm feeling good, thanks for asking!\n"
          ]
        }
      ]
    },
    {
      "cell_type": "code",
      "source": [
        "# prompt: what is my name?\n",
        "\n",
        "print(\"My name is Usman Iqbal\")\n"
      ],
      "metadata": {
        "id": "zWWPMD9efYME"
      },
      "execution_count": null,
      "outputs": []
    },
    {
      "cell_type": "markdown",
      "source": [
        "# Benefits of Google colab\n",
        "* Free Machine (free heavy computer)\n",
        "* Ram 12.5\n",
        "* Hardisk (108 GB)\n",
        "* Internet speed (1 GB)\n",
        "* GPU (16 vRAM)\n",
        "* You can run any Linux command here\n",
        "* gemini integrated. you can write code with generative AI (gemini)\n",
        "\n",
        "\n"
      ],
      "metadata": {
        "id": "WRr5puMjF9FL"
      }
    },
    {
      "cell_type": "code",
      "source": [
        "!pip freeze > requirements.txt\n"
      ],
      "metadata": {
        "id": "P7oyK9ptGwSn"
      },
      "execution_count": null,
      "outputs": []
    },
    {
      "cell_type": "code",
      "source": [
        "!curl ipecho.net/plain\n"
      ],
      "metadata": {
        "colab": {
          "base_uri": "https://localhost:8080/"
        },
        "id": "h5NY1GjhJfVz",
        "outputId": "12299612-2447-472e-bd83-81012120cff6"
      },
      "execution_count": null,
      "outputs": [
        {
          "output_type": "stream",
          "name": "stdout",
          "text": [
            "34.106.68.138"
          ]
        }
      ]
    },
    {
      "cell_type": "code",
      "source": [
        "!ls\n"
      ],
      "metadata": {
        "colab": {
          "base_uri": "https://localhost:8080/"
        },
        "id": "re8fi_jjKVCX",
        "outputId": "61b8170a-e90f-4b81-f150-e85e71ec1e81"
      },
      "execution_count": null,
      "outputs": [
        {
          "output_type": "stream",
          "name": "stdout",
          "text": [
            "requirements.txt  sample_data\n"
          ]
        }
      ]
    },
    {
      "cell_type": "code",
      "source": [
        "!pwd"
      ],
      "metadata": {
        "colab": {
          "base_uri": "https://localhost:8080/"
        },
        "id": "XpOy7SelKYDI",
        "outputId": "e6890a5c-f81b-4108-fb09-47ee1f8be49d"
      },
      "execution_count": null,
      "outputs": [
        {
          "output_type": "stream",
          "name": "stdout",
          "text": [
            "/content\n"
          ]
        }
      ]
    },
    {
      "cell_type": "code",
      "source": [],
      "metadata": {
        "id": "0dDS6dWGKdPw"
      },
      "execution_count": null,
      "outputs": []
    },
    {
      "cell_type": "markdown",
      "source": [
        "# class 1 titanic data EDA\n",
        "### transform data and image integration"
      ],
      "metadata": {
        "id": "dhxhDzZHltb1"
      }
    },
    {
      "cell_type": "code",
      "source": [],
      "metadata": {
        "id": "WHF6bqlbmMsW"
      },
      "execution_count": null,
      "outputs": []
    }
  ]
}